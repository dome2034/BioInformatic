{
 "cells": [
  {
   "cell_type": "markdown",
   "metadata": {},
   "source": [
    "# Motif Finding Assignment\n",
    "\n",
    "### โดม โพธิกานนท์  600631999\n",
    "\n",
    "## Branch and Bound vs. Greedy Approach\n",
    "\n",
    "การทดลองต่อไปนี้เป็นการค้นหา motif pattern จากข้อมูลที่โจทย์กำหนดให้ โดยโปรแกรมที่พัฒนาขึ้นนี้จะทำการค้นหา pattern ที่ต้องการเมื่อมีการกำหนดความยาว (L) ของ pattern ดังกล่าว\n",
    "\n",
    "### How to use the program\n",
    "\n",
    "การเรียกใช้งานโปรแกรมจะทำในรูปแบบของ command line argument ในลักษณะดังตัวอย่างต่อไปนี้\n",
    "\n",
    "    # python a1-motif-xxxx.py input-sequence.fasta 8\n",
    "\n",
    "โดยโปรแกรมจะรับค่า argument จำนวน 2 ตัว ได้แก่\n",
    "- input-sequence.fasta คือ fasta ไฟล์ที่เก็บข้อมูล sequence ทั้งหมดจำนวน t ลำดับโดยแต่ละ sequence จะยาวเท่าๆกันคือ n BPs\n",
    "- 8 คือความยาวของ motif pattern ที่ต้องการค้นหา\n",
    "\n",
    "### Important Functions\n",
    "\n",
    "ในโปรแกรมจะประกอบไปด้วยฟังก์ชั่นที่สำคัญดังต่อไปนี้\n",
    "\n",
    "#### 1. NextLeaf Function: (จริงๆแล้ว function พื้นฐานพวกนี้ไม่ต้องอธิบายครับ)"
   ]
  },
  {
   "cell_type": "code",
   "execution_count": 2,
   "metadata": {
    "collapsed": true
   },
   "outputs": [],
   "source": [
    "def NextLeaf(a,L,k):\n",
    "\t# print (\"*NextLeaf\\n\")\n",
    "\t# give [L,L-1,...,1]\n",
    "\tfor i in range(L,0,-1):\n",
    "\t\tif a[i]<k:\n",
    "\t\t\ta[i] = a[i]+1\n",
    "\t\t\treturn a\n",
    "\n",
    "\t\ta[i] = 1\n",
    "\n",
    "\treturn a"
   ]
  },
  {
   "cell_type": "markdown",
   "metadata": {},
   "source": [
    "เป็นฟังก์ชั่นที่ใช้ในการหาค่าของ left node ถัดไปจาก note ปัจจุบัน โดยจะป้อนค่าพารามิเตอร์ได้แก่ \n",
    "1. a คือค่าของ node ปัจจุบัน ในที่นี้คือค่าของ starting position (S) เช่น [1,1,0]\n",
    "2. L คือค่าของจำนวนลำดับ (t) เช่น ในกรณีนี้คือ 3\n",
    "3. k คือค่ามากที่สุดที่เป็นไปได้ของ starting position ได้แก่ n-l+1\n",
    "\n",
    "ตัวอย่างการใช้งาน"
   ]
  },
  {
   "cell_type": "code",
   "execution_count": 8,
   "metadata": {
    "collapsed": false
   },
   "outputs": [
    {
     "name": "stdout",
     "output_type": "stream",
     "text": [
      "Current node:  [1, 0, 1, 0]\n",
      "Next node:     [1, 0, 1, 1]\n"
     ]
    }
   ],
   "source": [
    "a=[1,0,1,0]\n",
    "print(\"Current node: \",a)\n",
    "L = 3\n",
    "k = 2\n",
    "b = NextLeaf(a,L,k)\n",
    "print(\"Next node:    \",b)"
   ]
  },
  {
   "cell_type": "markdown",
   "metadata": {},
   "source": [
    "### 2. ABC Function:\n",
    "...\n",
    "\n",
    "### 3. XYZ Functions:\n",
    "...\n",
    "\n"
   ]
  },
  {
   "cell_type": "markdown",
   "metadata": {},
   "source": [
    "## Branch and Bound algorithm for Motif Finding\n",
    "\n",
    "### หลักการประยุกต์ใช้ Branch and Bound กับ Motif Finding\n",
    "\n",
    "มีหลักการโดยสรุปดังต่อไปนี้ ...\n"
   ]
  },
  {
   "cell_type": "markdown",
   "metadata": {},
   "source": [
    "### Branch and Bound Code:"
   ]
  },
  {
   "cell_type": "code",
   "execution_count": null,
   "metadata": {
    "collapsed": false
   },
   "outputs": [],
   "source": [
    "# %load find_ratio.py\n",
    "import sys,os\n",
    "\n",
    "def main(argv):\n",
    "\tif len(sys.argv) == 3:\n",
    "\n",
    "\t\tinputfile = sys.argv[1]\n",
    "\t\toutputfile = sys.argv[2]\n",
    "\n",
    "\t\tif (os.path.exists('./'+inputfile)):\n",
    "\t\t\tf1 = open(inputfile,\"r\")\n",
    "\t\t\tf2 = open(outputfile,\"w\")\n",
    "\n",
    "\t\t\tcomment = f1.readline()\n",
    "\t\t\tprint(\"\\n\"+comment)\n",
    "\t\t\tf2.write(comment+\"\\n\")\n",
    "\n",
    "\t\t\ta=0;t=0;c=0;g=0;\n",
    "\n",
    "\t\t\t# print \"A=%d, T=%d, C=%d, G=%d\" % (a,t,c,g)\n",
    "\n",
    "\t\t\tfor line in f1:\n",
    "\t\t\t\tfor ch in line:\n",
    "\t\t\t\t\tif ch=='A':\n",
    "\t\t\t\t\t\ta = a+1;\n",
    "\t\t\t\t\telif ch=='T':\n",
    "\t\t\t\t\t\tt = t+1;\n",
    "\t\t\t\t\telif ch=='C':\n",
    "\t\t\t\t\t\tc = c+1;\n",
    "\t\t\t\t\telif ch=='G':\n",
    "\t\t\t\t\t\tg = g+1;\n",
    "\n",
    "\t\t\tf1.close()\n",
    "\n",
    "\t\t\tcounts = \"Nucleotides: A=%d, T=%d, C=%d, G=%d\" % (a,t,c,g)\n",
    "\t\t\tprint(counts)\n",
    "\t\t\tf2.write(counts+\"\\n\")\n",
    "\n",
    "\t\t\ttotal = (a+t+c+g)\n",
    "\n",
    "\t\t\ttotal_atcg = \"Total nucleotides: %d\" % total\n",
    "\t\t\tprint(total_atcg)\n",
    "\t\t\tf2.write(total_atcg+\"\\n\")\n",
    "\n",
    "\t\t\tra = (a+.0)/total\n",
    "\t\t\trt = (t+.0)/total\n",
    "\t\t\trc = (c+.0)/total\n",
    "\t\t\trg = (g+.0)/total\n",
    "\n",
    "\t\t\tratios = \"Ratio: A=%.2f, T=%.2f, C=%.2f, G=%.2f\" % (ra,rt,rc,rg)\n",
    "\t\t\tprint(ratios)\n",
    "\t\t\tf2.write(ratios+\"\\n\")\n",
    "\n",
    "\t\t\tf2.close()\n",
    "\t\t\n",
    "\t\telse:\n",
    "\t\t\tprint(\"error: file '%s' not found!!!\\n\" % argv[1])\n",
    "\t\t\texit()\n",
    "\n",
    "\telse:\n",
    "\t\tprint(\"usage: python find_ratio.py [fasta inputfile].\\nTry again.\\n\")\n",
    "\t\tprint(sys.argv)\n",
    "\n",
    "\n",
    "if __name__ == \"__main__\":\n",
    "\tmain(sys.argv)\n",
    "\n",
    "\n"
   ]
  },
  {
   "cell_type": "markdown",
   "metadata": {},
   "source": [
    "### Branch and Bound Result\n",
    "\n",
    "ผลการทดลองโดยใช้ Branch and Bround algorithm"
   ]
  },
  {
   "cell_type": "code",
   "execution_count": 10,
   "metadata": {
    "collapsed": false
   },
   "outputs": [
    {
     "name": "stdout",
     "output_type": "stream",
     "text": [
      "Report-Motif Finding.ipynb  motif-output.txt\r\n",
      "brca1-human.fasta           \u001b[31mmotif-test_sequences.fasta\u001b[m\u001b[m*\r\n",
      "find_ratio.py\r\n"
     ]
    }
   ],
   "source": [
    "# list file in current directory\n",
    "%ls"
   ]
  },
  {
   "cell_type": "code",
   "execution_count": 11,
   "metadata": {
    "collapsed": false
   },
   "outputs": [
    {
     "name": "stdout",
     "output_type": "stream",
     "text": [
      "\n",
      ">NC_000017.11:c43125483-43044295 Homo sapiens chromosome 17, GRCh38.p7 Primary Assembly\n",
      "\n",
      "Nucleotides: A=22779, T=23556, C=16955, G=17899\n",
      "Total nucleotides: 81189\n",
      "Ratio: A=0.28, T=0.29, C=0.21, G=0.22\n"
     ]
    }
   ],
   "source": [
    "# running .py file (similar to use the \"python\" in command line)\n",
    "%run find_ratio.py brca1-human.fasta motif-output.txt"
   ]
  },
  {
   "cell_type": "markdown",
   "metadata": {},
   "source": [
    "## Greedy algorithm\n",
    "\n",
    "\n",
    "### หลักการประยุกต์ใช้ Greedy กับ Motif Finding\n",
    "\n",
    "มีหลักการโดยสรุปดังต่อไปนี้ ...\n"
   ]
  },
  {
   "cell_type": "markdown",
   "metadata": {},
   "source": [
    "### Greedy Code:\n"
   ]
  },
  {
   "cell_type": "code",
   "execution_count": null,
   "metadata": {
    "collapsed": true
   },
   "outputs": [],
   "source": [
    "# This is Motif Finding using Greedy approach\n",
    "\n",
    "\n"
   ]
  },
  {
   "cell_type": "markdown",
   "metadata": {},
   "source": [
    "### Greedy Result\n",
    "\n",
    "ผลการทดลองโดยใช้ Greedy algorithm"
   ]
  },
  {
   "cell_type": "code",
   "execution_count": null,
   "metadata": {
    "collapsed": true
   },
   "outputs": [],
   "source": []
  },
  {
   "cell_type": "markdown",
   "metadata": {},
   "source": [
    "## Summary and Discussions\n",
    "\n",
    "### 1. เปรียบเทียบประสิทธิภาพ (performance comparison)\n",
    "อธิบายถึงความเร็ว-ช้าในการทำงาน พร้อมเหตุผล\n",
    "...\n",
    "\n",
    "### 2. เปรียบเทียบความถูกต้องของผลลัพธ์ (result comparison)\n",
    "อธิบายถึงความถูกต้องของผลลัพธ์ พร้อมเหตุผล\n",
    "...\n",
    "\n",
    "### 3. แนวทางการปรับปรุงด้านประสิทธิภาพ และความถูกต้อง (improvement)\n",
    "แล้วแต่ว่าอยากปรับปรุง algorithm ไหน ในด้านใด ปรับปรุงอย่างไร\n",
    "..."
   ]
  },
  {
   "cell_type": "code",
   "execution_count": null,
   "metadata": {
    "collapsed": true
   },
   "outputs": [],
   "source": []
  }
 ],
 "metadata": {
  "kernelspec": {
   "display_name": "Python 3",
   "language": "python",
   "name": "python3"
  },
  "language_info": {
   "codemirror_mode": {
    "name": "ipython",
    "version": 3
   },
   "file_extension": ".py",
   "mimetype": "text/x-python",
   "name": "python",
   "nbconvert_exporter": "python",
   "pygments_lexer": "ipython3",
   "version": "3.6.0"
  }
 },
 "nbformat": 4,
 "nbformat_minor": 2
}
