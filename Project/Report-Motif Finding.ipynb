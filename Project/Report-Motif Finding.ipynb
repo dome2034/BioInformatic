{
 "cells": [
  {
   "cell_type": "markdown",
   "metadata": {},
   "source": [
    "# Motif Finding Assignment\n",
    "\n",
    "### ธนกิจ เหล่ายาวิระ  600632014\n",
    "\n",
    "## Branch and Bound vs. Greedy Approach\n",
    "\n",
    "การทดลองต่อไปนี้เป็นการค้นหา motif pattern จากข้อมูลที่โจทย์กำหนดให้ โดยโปรแกรมที่พัฒนาขึ้นนี้จะทำการค้นหา pattern ที่ต้องการเมื่อมีการกำหนดความยาว (L) ของ pattern ดังกล่าว\n",
    "\n",
    "### How to use the program\n",
    "\n",
    "การเรียกใช้งานโปรแกรมจะทำในรูปแบบของ command line argument ในลักษณะดังตัวอย่างต่อไปนี้\n",
    "\n",
    "    # python a1-motif-600632014.py motif-test_sequences.fasta b 10\n",
    "\n",
    "โดยโปรแกรมจะรับค่า argument จำนวน 3 ตัว ได้แก่\n",
    "- motif-test_sequences.fasta คือ fasta ไฟล์ที่เก็บข้อมูล sequence ทั้งหมดจำนวน t ลำดับโดยแต่ละ sequence จะยาวเท่าๆกันคือ n BPs\n",
    "- b คือวิธีการหา motif มี 2 วิธีคือ b = branch and bound และ g = greedy \n",
    "- 10 คือความยาวของ motif pattern ที่ต้องการค้นหา\n",
    "\n",
    "### Important Functions\n",
    "\n",
    "ในโปรแกรมจะประกอบไปด้วยฟังก์ชั่นที่สำคัญดังต่อไปนี้"
   ]
  },
  {
   "cell_type": "markdown",
   "metadata": {},
   "source": [
    "### 1. score Function:"
   ]
  },
  {
   "cell_type": "code",
   "execution_count": 23,
   "metadata": {},
   "outputs": [],
   "source": [
    "def score(s,DNA,l):\n",
    "    iSeq=0\n",
    "    DNACut=[]\n",
    "    MaxChar=['A']*l\n",
    "    MaxCharVal=[0]*l\n",
    "    for iS in range(0,len(s)):\n",
    "        DNACut.append(list(DNA[iSeq][(s[iS]):((s[iS])+l)]))\n",
    "        iSeq += 1\n",
    "    #-- cal score\n",
    "    for j in range(0,l):\n",
    "        cA = 0\n",
    "        cT = 0\n",
    "        cG = 0\n",
    "        cC = 0\n",
    "        for k in range(0,len(DNACut)):\n",
    "            #-- count char\n",
    "            if (DNACut[k][j] == 'A'):\n",
    "                cA += 1\n",
    "                if (cA > MaxCharVal[j]):\n",
    "                    MaxCharVal[j] = cA\n",
    "                    MaxChar[j] = 'A'\n",
    "            elif (DNACut[k][j] == 'T'):\n",
    "                cT += 1\n",
    "                if (cT > MaxCharVal[j]):\n",
    "                    MaxCharVal[j] = cT\n",
    "                    MaxChar[j] = 'T'\n",
    "            elif (DNACut[k][j] == 'G'):\n",
    "                cG += 1\n",
    "                if (cG > MaxCharVal[j]):\n",
    "                    MaxCharVal[j] = cG\n",
    "                    MaxChar[j] = 'G'\n",
    "            else:\n",
    "                cC += 1\n",
    "                if (cC > MaxCharVal[j]):\n",
    "                    MaxCharVal[j] = cC\n",
    "                    MaxChar[j] = 'C'\n",
    "    ResultScore = sum(MaxCharVal)\n",
    "    return ResultScore,MaxChar"
   ]
  },
  {
   "cell_type": "markdown",
   "metadata": {},
   "source": [
    "เป็นฟังก์ชั่นที่ใช้ในการหาค่าของ score โดยจะป้อนค่าพารามิเตอร์ได้แก่ \n",
    "1. s คือค่าของ starting position (เริ่มจาก 0) เช่น [0,0,0,0]\n",
    "2. DNA คือค่าของ sequence ทั้งหมด เช่น ['AGTCG','GGTGG','CGTTT','AGTCC']\n",
    "3. l คือค่าความยาวของ pattern ที่ต้องการหา\n",
    "\n",
    "output จะมี 2 ค่า คือ ค่า score และ consensus string\n",
    "\n",
    "ตัวอย่างการใช้งาน"
   ]
  },
  {
   "cell_type": "code",
   "execution_count": 24,
   "metadata": {},
   "outputs": [
    {
     "name": "stdout",
     "output_type": "stream",
     "text": [
      "score is : 10\n",
      "consensus string is : ['A', 'G', 'T']\n"
     ]
    }
   ],
   "source": [
    "score,consensus = score([0,0,0,0],['AGTCG','GGTGG','CGTTT','AGTCC'],3)\n",
    "print(\"score is :\",score)\n",
    "print(\"consensus string is :\",consensus)"
   ]
  },
  {
   "cell_type": "markdown",
   "metadata": {},
   "source": [
    "### 2. partialScore Function:"
   ]
  },
  {
   "cell_type": "code",
   "execution_count": 25,
   "metadata": {},
   "outputs": [],
   "source": [
    "def partialScore(s,i,DNA,l):\n",
    "    iSeq=0\n",
    "    DNACut=[]\n",
    "    MaxChar=['A']*l\n",
    "    MaxCharVal=[0]*l\n",
    "    for iS in range(0,i):\n",
    "        DNACut.append(list(DNA[iSeq][(s[iS]):((s[iS])+l)]))\n",
    "        iSeq += 1\n",
    "    #-- cal score\n",
    "    for j in range(0,l):\n",
    "        cA = 0\n",
    "        cT = 0\n",
    "        cG = 0\n",
    "        cC = 0\n",
    "        for k in range(0,len(DNACut)):\n",
    "            #-- count char\n",
    "            if (DNACut[k][j] == 'A'):\n",
    "                cA += 1\n",
    "                if (cA > MaxCharVal[j]):\n",
    "                    MaxCharVal[j] = cA\n",
    "                    MaxChar[j] = 'A'\n",
    "            elif (DNACut[k][j] == 'T'):\n",
    "                cT += 1\n",
    "                if (cT > MaxCharVal[j]):\n",
    "                    MaxCharVal[j] = cT\n",
    "                    MaxChar[j] = 'T'\n",
    "            elif (DNACut[k][j] == 'G'):\n",
    "                cG += 1\n",
    "                if (cG > MaxCharVal[j]):\n",
    "                    MaxCharVal[j] = cG\n",
    "                    MaxChar[j] = 'G'\n",
    "            else:\n",
    "                cC += 1\n",
    "                if (cC > MaxCharVal[j]):\n",
    "                    MaxCharVal[j] = cC\n",
    "                    MaxChar[j] = 'C'\n",
    "    ResultScore = sum(MaxCharVal)\n",
    "    return ResultScore,MaxChar"
   ]
  },
  {
   "cell_type": "markdown",
   "metadata": {},
   "source": [
    "เป็นฟังก์ชั่นที่ใช้ในการหาค่าของ partial score โดยจะป้อนค่าพารามิเตอร์ได้แก่ \n",
    "1. s คือค่าของ starting position (เริ่มจาก 0) เช่น [0,0,0,0]\n",
    "2. i คือค่าของจำนวน sequence ที่เราทราบค่า เช่น 2 \n",
    "2. DNA คือค่าของ sequence ทั้งหมด เช่น ['AGTCG','GGTGG','CGTTT','AGTCC']\n",
    "3. l คือค่าความยาวของ pattern ที่ต้องการหา\n",
    "\n",
    "output จะมี 2 ค่า คือ ค่า partial score และ consensus string\n",
    "\n",
    "ตัวอย่างการใช้งาน"
   ]
  },
  {
   "cell_type": "code",
   "execution_count": 26,
   "metadata": {},
   "outputs": [
    {
     "name": "stdout",
     "output_type": "stream",
     "text": [
      "partialScore is : 5\n",
      "consensus string is : ['A', 'G', 'T']\n"
     ]
    }
   ],
   "source": [
    "score,consensus = partialScore([0,0,0,0],2,['AGTCG','GGTGG','CGTTT','AGTCC'],3)\n",
    "print(\"partialScore is :\",score)\n",
    "print(\"consensus string is :\",consensus)"
   ]
  },
  {
   "cell_type": "markdown",
   "metadata": {},
   "source": [
    "## Branch and Bound algorithm for Motif Finding\n",
    "\n",
    "### หลักการประยุกต์ใช้ Branch and Bound กับ Motif Finding\n",
    "\n",
    "มีหลักการโดยสรุปดังต่อไปนี้\n",
    "branch and bound motif search จะมีวิธีคิดโดยใช้ tree มาคำนวณหา score ที่ดีที่สุด โดยข้ามบาง node ของ tree ที่ซ้ำกัน เพื่อลดระยะเวลาการคำนวณลง"
   ]
  },
  {
   "cell_type": "markdown",
   "metadata": {},
   "source": [
    "### Branch and Bound Code:"
   ]
  },
  {
   "cell_type": "code",
   "execution_count": 35,
   "metadata": {
    "collapsed": false
   },
   "outputs": [],
   "source": [
    "def branchAndBoundMotifSearch(DNA,t,n,l):\n",
    "    progress = \".\"\n",
    "    countLoop = 0\n",
    "    s = [0]*t\n",
    "    scoreNow = 0\n",
    "    BestScore = 0\n",
    "    BestMotif = [0]*t\n",
    "    i = 1\n",
    "    while (i > 0):\n",
    "        if (i < t):\n",
    "            OptimisticScore = partialScore(s,i,DNA,l)[0]+(t-i)*l\n",
    "            if (OptimisticScore < BestScore):\n",
    "                s,i = byPass(s,i,t,(n - l + 1))\n",
    "            else:\n",
    "                s,i = nextVertex(s,i,t,(n - l + 1))\n",
    "        else:\n",
    "            scoreNow = score(s,DNA,l)[0]\n",
    "            if (scoreNow > BestScore):\n",
    "                BestScore = scoreNow\n",
    "                BestMotif = s.copy()\n",
    "            s,i = nextVertex(s,i,t,(n - l + 1))\n",
    "        countLoop += 1\n",
    "        #-- print progress\n",
    "        if (countLoop%100000 == 0):\n",
    "            os.system('cls')\n",
    "            print(\"==================\")\n",
    "            print(\"Loading \",progress)\n",
    "            print(\"==================\")\n",
    "            if (len(progress) == 10):\n",
    "                progress = \".\"\n",
    "            else:\n",
    "                progress += \".\"\n",
    "                \n",
    "    Consensus = score(BestMotif,DNA,l)[1]\n",
    "    ResultBestMotif = [x+1 for x in BestMotif]\n",
    "    return countLoop,ResultBestMotif,BestScore,Consensus"
   ]
  },
  {
   "cell_type": "markdown",
   "metadata": {},
   "source": [
    "### Branch and Bound Result\n",
    "\n",
    "ผลการทดลองโดยใช้ Branch and Bround algorithm"
   ]
  },
  {
   "cell_type": "code",
   "execution_count": 36,
   "metadata": {
    "collapsed": false
   },
   "outputs": [
    {
     "name": "stdout",
     "output_type": "stream",
     "text": [
      "Number of visiting nodes : 961044\n",
      "BestMotif : [24, 1, 43, 18, 20]\n",
      "BestScore : 42\n",
      "Consensus ['G', 'T', 'A', 'G', 'A', 'T', 'G', 'G', 'G', 'G']\n"
     ]
    }
   ],
   "source": [
    "%run a1-motif-600632014.py motif-test_sequences.fasta b 10"
   ]
  },
  {
   "cell_type": "markdown",
   "metadata": {},
   "source": [
    "## Greedy algorithm\n",
    "\n",
    "\n",
    "### หลักการประยุกต์ใช้ Greedy กับ Motif Finding\n",
    "\n",
    "มีหลักการโดยสรุปดังต่อไปนี้ greedy จะคำนวณหา 2 starting position ที่ดีที่สุดก่อน แล้วจึงคำนวณหา starting position ตัวต่อไปจนครบ โดยไม่สนใจว่า 2 ตัวแรกจะเป็นตัวที่ดีที่สุดจริงๆหรือไม่  \n"
   ]
  },
  {
   "cell_type": "markdown",
   "metadata": {},
   "source": [
    "### Greedy Code:\n"
   ]
  },
  {
   "cell_type": "code",
   "execution_count": null,
   "metadata": {
    "collapsed": true
   },
   "outputs": [],
   "source": [
    "# This is Motif Finding using Greedy approach\n",
    "def greedyMotifSearch(DNA,t,n,l):\n",
    "    countLoop = 0\n",
    "    BestMotif = [0]*t\n",
    "    s = [0]*t\n",
    "    for s[0] in range(0,(n-l+1)):\n",
    "        for s[1] in range(0,(n-l+1)):\n",
    "            if (partialScore(s,2,DNA,l)[0] > partialScore(BestMotif,2,DNA,l)[0]):\n",
    "                BestMotif[0] = s[0]\n",
    "                BestMotif[1] = s[1]\n",
    "            countLoop += 1\n",
    "    s[0] = BestMotif[0]\n",
    "    s[1] = BestMotif[1]\n",
    "    for i in range(2,t):\n",
    "        for s[i] in range(0,(n-l+1)):\n",
    "            if (partialScore(s,i+1,DNA,l)[0] > partialScore(BestMotif,i+1,DNA,l)[0]):\n",
    "                BestMotif[i] = s[i]\n",
    "            countLoop += 1\n",
    "        s[i] = BestMotif[i]\n",
    "    #print(countLoop)\n",
    "    BestScore = score(BestMotif,DNA,l)[0]\n",
    "    Consensus = score(BestMotif,DNA,l)[1]\n",
    "    ResultBestMotif = [x+1 for x in BestMotif]   \n",
    "    \n",
    "    return countLoop,ResultBestMotif,BestScore,Consensus\n",
    "\n",
    "\n"
   ]
  },
  {
   "cell_type": "markdown",
   "metadata": {},
   "source": [
    "### Greedy Result\n",
    "\n",
    "ผลการทดลองโดยใช้ Greedy algorithm"
   ]
  },
  {
   "cell_type": "code",
   "execution_count": 37,
   "metadata": {
    "collapsed": true
   },
   "outputs": [
    {
     "name": "stdout",
     "output_type": "stream",
     "text": [
      "Number of visiting nodes : 2754\n",
      "BestMotif : [17, 39, 21, 5, 10]\n",
      "BestScore : 36\n",
      "Consensus ['A', 'A', 'T', 'C', 'A', 'G', 'C', 'T', 'T', 'A']\n"
     ]
    }
   ],
   "source": [
    "%run a1-motif-600632014.py motif-test_sequences.fasta g 10"
   ]
  },
  {
   "cell_type": "markdown",
   "metadata": {},
   "source": [
    "## Summary and Discussions\n",
    "\n",
    "### 1. เปรียบเทียบประสิทธิภาพ (performance comparison)\n",
    "ในแง่ความเร็วนั้น Greedy จะเร็วกว่า Branch and Bround มาก เนื่องจาก greedy จะคำนวณแค่ 2 ตัวแรกก่อนจึงตัดการเข้า node อื่นๆไปได้มาก \n",
    "\n",
    "### 2. เปรียบเทียบความถูกต้องของผลลัพธ์ (result comparison)\n",
    "ในเรื่องความถูกต้องนั้น Branch and Bround ดีกว่า Greedy เนื่องจากผลลัพธ์ของ Branch and Bround นั้นคือผลลัพธ์ที่ดีที่สุด \n",
    "แต่ผลลัพธ์ของ Greedy นั้นอาจจะไม่ใช่ผลลัพธ์ที่ดีที่สุด\n",
    "\n",
    "### 3. แนวทางการปรับปรุงด้านประสิทธิภาพ และความถูกต้อง (improvement)\n",
    "อยากปรับปรุง ในส่วนของการคำนวณ เพราะผมใช้ index ตัวแรกเป็น 0 แต่ถ้าปรับเป็น psudocode ควรเป็น 1 เพราะคนอ่านจะเข้าใจง่ายกว่า"
   ]
  },
  {
   "cell_type": "code",
   "execution_count": null,
   "metadata": {
    "collapsed": true
   },
   "outputs": [],
   "source": []
  }
 ],
 "metadata": {
  "kernelspec": {
   "display_name": "Python 3",
   "language": "python",
   "name": "python3"
  },
  "language_info": {
   "codemirror_mode": {
    "name": "ipython",
    "version": 3
   },
   "file_extension": ".py",
   "mimetype": "text/x-python",
   "name": "python",
   "nbconvert_exporter": "python",
   "pygments_lexer": "ipython3",
   "version": "3.6.3"
  }
 },
 "nbformat": 4,
 "nbformat_minor": 2
}
